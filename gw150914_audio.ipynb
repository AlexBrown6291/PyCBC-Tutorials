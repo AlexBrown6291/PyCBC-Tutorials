{
 "cells": [
  {
   "cell_type": "markdown",
   "metadata": {},
   "source": [
    "### Listen to the merger converted to audio ###"
   ]
  },
  {
   "cell_type": "code",
   "execution_count": 1,
   "metadata": {
    "collapsed": false
   },
   "outputs": [],
   "source": [
    "from pycbc.frame import read_frame\n",
    "from pycbc.filter import highpass_fir, lowpass_fir\n",
    "from pycbc.psd import welch, interpolate\n",
    "from pycbc.types import TimeSeries\n",
    "\n",
    "# Read data and remove low frequency content\n",
    "fname = 'H-H1_LOSC_4_V2-1126259446-32.gwf'\n",
    "h1 = highpass_fir(read_frame(fname, 'H1:LOSC-STRAIN'), 15.0, 8)\n",
    "\n",
    "# estimate the noise spectrum and whiten\n",
    "psd = interpolate(welch(h1), 1.0 / 32)\n",
    "white_strain = (h1.to_frequencyseries() / psd ** 0.5 * psd.delta_f).to_timeseries()\n",
    "\n",
    "# remove some of the high and low frequencies\n",
    "smooth = highpass_fir(white_strain, 25, 8)\n",
    "smooth = lowpass_fir(white_strain, 250, 8)\n",
    "\n",
    "# slow the data down by a factor of 4\n",
    "smooth = TimeSeries(smooth, delta_t=smooth.delta_t*4)\n",
    "\n",
    "#strech out and shift the frequency upwards by 300 Hz to aid human hearing\n",
    "frequency_shift = 300.0\n",
    "fdata = smooth.to_frequencyseries()\n",
    "fdata.roll(int(frequency_shift / fdata.delta_f))\n",
    "processed = fdata.to_timeseries()\n",
    "\n",
    "#Take slice around signal\n",
    "smooth = smooth[len(smooth)/2 - 1500:len(smooth)/2 + 3000]\n",
    "smooth.save_to_wav('gw150914_h1_chirp.wav')"
   ]
  },
  {
   "cell_type": "markdown",
   "metadata": {},
   "source": [
    "### [Download your audio file here!](gw150914_h1_chirp.wav) ###"
   ]
  }
 ],
 "metadata": {
  "kernelspec": {
   "display_name": "Python 2",
   "language": "python",
   "name": "python2"
  },
  "language_info": {
   "codemirror_mode": {
    "name": "ipython",
    "version": 2
   },
   "file_extension": ".py",
   "mimetype": "text/x-python",
   "name": "python",
   "nbconvert_exporter": "python",
   "pygments_lexer": "ipython2",
   "version": "2.7.13"
  }
 },
 "nbformat": 4,
 "nbformat_minor": 2
}
