{
 "cells": [
  {
   "cell_type": "markdown",
   "metadata": {},
   "source": [
    "### Listen to the merger converted to audio ###"
   ]
  },
  {
   "cell_type": "code",
   "execution_count": null,
   "metadata": {},
   "outputs": [],
   "source": [
    "import sys\n",
    "!{sys.executable} -m pip install lalsuite pycbc"
   ]
  },
  {
   "cell_type": "code",
   "execution_count": 1,
   "metadata": {
    "collapsed": true
   },
   "outputs": [
    {
     "name": "stdout",
     "output_type": "stream",
     "text": [
      "Requirement already satisfied: lal in /home/nbcommon/anaconda2_410/lib/python2.7/site-packages\n",
      "Requirement already satisfied: numpy==1.13.0 in /home/nbcommon/anaconda2_410/lib/python2.7/site-packages (from lal)\n",
      "Requirement already satisfied: pycbc in /home/nbcommon/anaconda2_410/lib/python2.7/site-packages\n",
      "Requirement already satisfied: decorator>=3.4.2 in /home/nbcommon/anaconda2_410/lib/python2.7/site-packages (from pycbc)\n",
      "Requirement already satisfied: kombine==0.8.1 in /home/nbcommon/anaconda2_410/lib/python2.7/site-packages (from pycbc)\n",
      "Requirement already satisfied: Mako>=1.0.1 in /home/nbcommon/anaconda2_410/lib/python2.7/site-packages (from pycbc)\n",
      "Requirement already satisfied: emcee>=2.2.0 in /home/nbcommon/anaconda2_410/lib/python2.7/site-packages (from pycbc)\n",
      "Requirement already satisfied: argparse>=1.3.0 in /home/nbcommon/anaconda2_410/lib/python2.7/site-packages (from pycbc)\n",
      "Requirement already satisfied: matplotlib>=1.3.1 in /home/nbcommon/anaconda2_410/lib/python2.7/site-packages (from pycbc)\n",
      "Requirement already satisfied: corner>=2.0.1 in /home/nbcommon/anaconda2_410/lib/python2.7/site-packages (from pycbc)\n",
      "Requirement already satisfied: pyRXP>=2.1.0 in /home/nbcommon/anaconda2_410/lib/python2.7/site-packages (from pycbc)\n",
      "Requirement already satisfied: beautifulsoup4>=4.6.0 in /home/nbcommon/anaconda2_410/lib/python2.7/site-packages (from pycbc)\n",
      "Requirement already satisfied: pillow in /home/nbcommon/anaconda2_410/lib/python2.7/site-packages (from pycbc)\n",
      "Requirement already satisfied: pycbc-glue-obsolete==1.1.0 in /home/nbcommon/anaconda2_410/lib/python2.7/site-packages (from pycbc)\n",
      "Requirement already satisfied: h5py>=2.5 in /home/nbcommon/anaconda2_410/lib/python2.7/site-packages (from pycbc)\n",
      "Requirement already satisfied: requests>=1.2.1 in /home/nbcommon/anaconda2_410/lib/python2.7/site-packages (from pycbc)\n",
      "Requirement already satisfied: unittest2 in /home/nbcommon/anaconda2_410/lib/python2.7/site-packages (from pycbc)\n",
      "Requirement already satisfied: numpy>=1.6.4 in /home/nbcommon/anaconda2_410/lib/python2.7/site-packages (from pycbc)\n",
      "Requirement already satisfied: scipy>=0.13.0 in /home/nbcommon/anaconda2_410/lib/python2.7/site-packages (from pycbc)\n",
      "Requirement already satisfied: jinja2 in /home/nbcommon/anaconda2_410/lib/python2.7/site-packages (from pycbc)\n",
      "Requirement already satisfied: weave>=0.16.0 in /home/nbcommon/anaconda2_410/lib/python2.7/site-packages (from pycbc)\n",
      "Requirement already satisfied: mpld3>=0.3 in /home/nbcommon/anaconda2_410/lib/python2.7/site-packages (from pycbc)\n",
      "Requirement already satisfied: MarkupSafe>=0.9.2 in /home/nbcommon/anaconda2_410/lib/python2.7/site-packages (from Mako>=1.0.1->pycbc)\n",
      "Requirement already satisfied: python-dateutil in /home/nbcommon/anaconda2_410/lib/python2.7/site-packages (from matplotlib>=1.3.1->pycbc)\n",
      "Requirement already satisfied: pytz in /home/nbcommon/anaconda2_410/lib/python2.7/site-packages (from matplotlib>=1.3.1->pycbc)\n",
      "Requirement already satisfied: cycler in /home/nbcommon/anaconda2_410/lib/python2.7/site-packages (from matplotlib>=1.3.1->pycbc)\n",
      "Requirement already satisfied: pyparsing!=2.0.4,>=1.5.6 in /home/nbcommon/anaconda2_410/lib/python2.7/site-packages (from matplotlib>=1.3.1->pycbc)\n",
      "Requirement already satisfied: six in /home/nbcommon/anaconda2_410/lib/python2.7/site-packages (from h5py>=2.5->pycbc)\n",
      "Requirement already satisfied: traceback2 in /home/nbcommon/anaconda2_410/lib/python2.7/site-packages (from unittest2->pycbc)\n",
      "Requirement already satisfied: linecache2 in /home/nbcommon/anaconda2_410/lib/python2.7/site-packages (from traceback2->unittest2->pycbc)\n",
      "  % Total    % Received % Xferd  Average Speed   Time    Time     Time  Current\n",
      "                                 Dload  Upload   Total   Spent    Left  Speed\n",
      "100 1005k  100 1005k    0     0  4612k      0 --:--:-- --:--:-- --:--:-- 4632k\n"
     ]
    }
   ],
   "source": [
    "#Set up the libraries we need and download the data\n",
    "!curl -O -J https://raw.githubusercontent.com/ligo-cbc/binder/master/H-H1_LOSC_4_V2-1126259446-32.gwf"
   ]
  },
  {
   "cell_type": "code",
   "execution_count": 2,
   "metadata": {},
   "outputs": [
    {
     "name": "stdout",
     "output_type": "stream",
     "text": [
      "\n"
     ]
    }
   ],
   "source": [
    "from pycbc.frame import read_frame\n",
    "from pycbc.filter import highpass_fir, lowpass_fir\n",
    "from pycbc.psd import welch, interpolate\n",
    "from pycbc.types import TimeSeries\n",
    "\n",
    "# Read data and remove low frequency content\n",
    "fname = 'H-H1_LOSC_4_V2-1126259446-32.gwf'\n",
    "h1 = highpass_fir(read_frame(fname, 'H1:LOSC-STRAIN'), 15.0, 8)\n",
    "\n",
    "# estimate the noise spectrum and whiten\n",
    "psd = interpolate(welch(h1), 1.0 / 32)\n",
    "white_strain = (h1.to_frequencyseries() / psd ** 0.5 * psd.delta_f).to_timeseries()\n",
    "\n",
    "# remove some of the high and low frequencies\n",
    "smooth = highpass_fir(white_strain, 25, 8)\n",
    "smooth = lowpass_fir(white_strain, 250, 8)\n",
    "\n",
    "# slow the data down by a factor of 4\n",
    "smooth = TimeSeries(smooth, delta_t=smooth.delta_t*4)\n",
    "\n",
    "#strech out and shift the frequency upwards by 300 Hz to aid human hearing\n",
    "frequency_shift = 300.0\n",
    "fdata = smooth.to_frequencyseries()\n",
    "fdata.roll(int(frequency_shift / fdata.delta_f))\n",
    "smooth = fdata.to_timeseries()\n",
    "\n",
    "#Take slice around signal\n",
    "smooth = smooth[len(smooth)/2 - 1500:len(smooth)/2 + 3000]\n",
    "smooth.save_to_wav('gw150914_h1_chirp.wav')"
   ]
  },
  {
   "cell_type": "markdown",
   "metadata": {},
   "source": [
    "### Downlod your audio file ###\n",
    " 1. Click 'Data' in the menu above to find the 'Download...' option.\n",
    " 2. Select and download gw150914_h1_chirp.wav"
   ]
  }
 ],
 "metadata": {
  "kernelspec": {
   "display_name": "Python 2",
   "language": "python",
   "name": "python2"
  },
  "language_info": {
   "codemirror_mode": {
    "name": "ipython",
    "version": 2
   },
   "file_extension": ".py",
   "mimetype": "text/x-python",
   "name": "python",
   "nbconvert_exporter": "python",
   "pygments_lexer": "ipython2",
   "version": "2.7.14"
  }
 },
 "nbformat": 4,
 "nbformat_minor": 2
}
