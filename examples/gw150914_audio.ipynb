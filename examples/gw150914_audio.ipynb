{
 "cells": [
  {
   "cell_type": "markdown",
   "metadata": {},
   "source": [
    "### Listen to the merger converted to audio ###"
   ]
  },
  {
   "cell_type": "code",
   "execution_count": null,
   "metadata": {},
   "outputs": [
    {
     "name": "stdout",
     "output_type": "stream",
     "text": [
      "Requirement already satisfied: lalsuite==6.48.1.dev20180620 in /home/nbuser/anaconda2_501/lib/python2.7/site-packages (6.48.1.dev20180620)\n",
      "Requirement already satisfied: pycbc in /home/nbuser/anaconda2_501/lib/python2.7/site-packages (1.12.1)\n",
      "Requirement already satisfied: numpy>=1.7 in /home/nbuser/anaconda2_501/lib/python2.7/site-packages (from lalsuite==6.48.1.dev20180620) (1.15.0)\n",
      "Requirement already satisfied: cython in /home/nbuser/anaconda2_501/lib/python2.7/site-packages (from pycbc) (0.26.1)\n",
      "Requirement already satisfied: argparse>=1.3.0 in /home/nbuser/anaconda2_501/lib/python2.7/site-packages (from pycbc) (1.4.0)\n",
      "Requirement already satisfied: astropy>=2.0.3 in /home/nbuser/anaconda2_501/lib/python2.7/site-packages (from pycbc) (2.0.8)\n",
      "Requirement already satisfied: beautifulsoup4>=4.6.0 in /home/nbuser/anaconda2_501/lib/python2.7/site-packages (from pycbc) (4.6.0)\n",
      "Requirement already satisfied: weave>=0.16.0 in /home/nbuser/anaconda2_501/lib/python2.7/site-packages (from pycbc) (0.16.0)\n",
      "Requirement already satisfied: h5py>=2.5 in /home/nbuser/anaconda2_501/lib/python2.7/site-packages (from pycbc) (2.7.0)\n",
      "Requirement already satisfied: mpld3>=0.3 in /home/nbuser/anaconda2_501/lib/python2.7/site-packages (from pycbc) (0.3)\n",
      "Requirement already satisfied: Mako>=1.0.1 in /home/nbuser/anaconda2_501/lib/python2.7/site-packages (from pycbc) (1.0.7)\n",
      "Requirement already satisfied: matplotlib>=1.5.1 in /home/nbuser/anaconda2_501/lib/python2.7/site-packages (from pycbc) (2.1.0)\n",
      "Requirement already satisfied: scipy>=0.16.0 in /home/nbuser/anaconda2_501/lib/python2.7/site-packages (from pycbc) (0.19.0)\n",
      "Requirement already satisfied: corner>=2.0.1 in /home/nbuser/anaconda2_501/lib/python2.7/site-packages (from pycbc) (2.0.1)\n",
      "Requirement already satisfied: jinja2 in /home/nbuser/anaconda2_501/lib/python2.7/site-packages (from pycbc) (2.9.6)\n",
      "Requirement already satisfied: unittest2 in /home/nbuser/anaconda2_501/lib/python2.7/site-packages (from pycbc) (1.1.0)\n",
      "Requirement already satisfied: pillow in /home/nbuser/anaconda2_501/lib/python2.7/site-packages (from pycbc) (4.3.0)\n",
      "Requirement already satisfied: kombine>=0.8.2 in /home/nbuser/anaconda2_501/lib/python2.7/site-packages (from pycbc) (0.8.3)\n",
      "Requirement already satisfied: six>=1.10.0 in /home/nbuser/anaconda2_501/lib/python2.7/site-packages (from pycbc) (1.11.0)\n",
      "Requirement already satisfied: decorator>=3.4.2 in /home/nbuser/anaconda2_501/lib/python2.7/site-packages (from pycbc) (4.1.2)\n",
      "Requirement already satisfied: lscsoft-glue>=1.59.3 in /home/nbuser/anaconda2_501/lib/python2.7/site-packages (from pycbc) (1.59.3)\n",
      "Requirement already satisfied: emcee==2.2.1 in /home/nbuser/anaconda2_501/lib/python2.7/site-packages (from pycbc) (2.2.1)\n",
      "Requirement already satisfied: requests>=1.2.1 in /home/nbuser/anaconda2_501/lib/python2.7/site-packages (from pycbc) (2.18.4)\n",
      "Requirement already satisfied: pytest>=2.8 in /home/nbuser/anaconda2_501/lib/python2.7/site-packages (from astropy>=2.0.3->pycbc) (3.2.1)\n",
      "Requirement already satisfied: MarkupSafe>=0.9.2 in /home/nbuser/anaconda2_501/lib/python2.7/site-packages (from Mako>=1.0.1->pycbc) (1.0)\n",
      "Requirement already satisfied: python-dateutil>=2.0 in /home/nbuser/anaconda2_501/lib/python2.7/site-packages (from matplotlib>=1.5.1->pycbc) (2.6.1)\n",
      "Requirement already satisfied: backports.functools_lru_cache in /home/nbuser/anaconda2_501/lib/python2.7/site-packages (from matplotlib>=1.5.1->pycbc) (1.4)\n",
      "Requirement already satisfied: subprocess32 in /home/nbuser/anaconda2_501/lib/python2.7/site-packages (from matplotlib>=1.5.1->pycbc) (3.2.7)\n",
      "Requirement already satisfied: pytz in /home/nbuser/anaconda2_501/lib/python2.7/site-packages (from matplotlib>=1.5.1->pycbc) (2017.2)\n",
      "Requirement already satisfied: cycler>=0.10 in /home/nbuser/anaconda2_501/lib/python2.7/site-packages (from matplotlib>=1.5.1->pycbc) (0.10.0)\n",
      "Requirement already satisfied: pyparsing!=2.0.4,!=2.1.2,!=2.1.6,>=2.0.1 in /home/nbuser/anaconda2_501/lib/python2.7/site-packages (from matplotlib>=1.5.1->pycbc) (2.2.0)\n",
      "Requirement already satisfied: traceback2 in /home/nbuser/anaconda2_501/lib/python2.7/site-packages (from unittest2->pycbc) (1.4.0)\n",
      "Requirement already satisfied: olefile in /home/nbuser/anaconda2_501/lib/python2.7/site-packages (from pillow->pycbc) (0.44)\n",
      "Requirement already satisfied: pyOpenSSL in /home/nbuser/anaconda2_501/lib/python2.7/site-packages (from lscsoft-glue>=1.59.3->pycbc) (17.2.0)\n",
      "Requirement already satisfied: chardet<3.1.0,>=3.0.2 in /home/nbuser/anaconda2_501/lib/python2.7/site-packages (from requests>=1.2.1->pycbc) (3.0.4)\n",
      "Requirement already satisfied: idna<2.7,>=2.5 in /home/nbuser/anaconda2_501/lib/python2.7/site-packages (from requests>=1.2.1->pycbc) (2.6)\n",
      "Requirement already satisfied: urllib3<1.23,>=1.21.1 in /home/nbuser/anaconda2_501/lib/python2.7/site-packages (from requests>=1.2.1->pycbc) (1.22)\n",
      "Requirement already satisfied: certifi>=2017.4.17 in /home/nbuser/anaconda2_501/lib/python2.7/site-packages (from requests>=1.2.1->pycbc) (2017.7.27.1)\n",
      "Requirement already satisfied: py>=1.4.33 in /home/nbuser/anaconda2_501/lib/python2.7/site-packages (from pytest>=2.8->astropy>=2.0.3->pycbc) (1.4.34)\n",
      "Requirement already satisfied: setuptools in /home/nbuser/anaconda2_501/lib/python2.7/site-packages (from pytest>=2.8->astropy>=2.0.3->pycbc) (40.0.0)\n",
      "Requirement already satisfied: linecache2 in /home/nbuser/anaconda2_501/lib/python2.7/site-packages (from traceback2->unittest2->pycbc) (1.0.0)\n",
      "Requirement already satisfied: cryptography>=1.9 in /home/nbuser/anaconda2_501/lib/python2.7/site-packages (from pyOpenSSL->lscsoft-glue>=1.59.3->pycbc) (2.0.3)\n",
      "Requirement already satisfied: asn1crypto>=0.21.0 in /home/nbuser/anaconda2_501/lib/python2.7/site-packages (from cryptography>=1.9->pyOpenSSL->lscsoft-glue>=1.59.3->pycbc) (0.22.0)\n",
      "Requirement already satisfied: enum34 in /home/nbuser/anaconda2_501/lib/python2.7/site-packages (from cryptography>=1.9->pyOpenSSL->lscsoft-glue>=1.59.3->pycbc) (1.1.6)\n",
      "Requirement already satisfied: ipaddress in /home/nbuser/anaconda2_501/lib/python2.7/site-packages (from cryptography>=1.9->pyOpenSSL->lscsoft-glue>=1.59.3->pycbc) (1.0.18)\n",
      "Requirement already satisfied: cffi>=1.7 in /home/nbuser/anaconda2_501/lib/python2.7/site-packages (from cryptography>=1.9->pyOpenSSL->lscsoft-glue>=1.59.3->pycbc) (1.10.0)\n",
      "Requirement already satisfied: pycparser in /home/nbuser/anaconda2_501/lib/python2.7/site-packages (from cffi>=1.7->cryptography>=1.9->pyOpenSSL->lscsoft-glue>=1.59.3->pycbc) (2.18)\n"
     ]
    }
   ],
   "source": [
    "import sys\n",
    "!{sys.executable} -m pip install lalsuite=='6.48.1.dev20180620' pycbc"
   ]
  },
  {
   "cell_type": "code",
   "execution_count": null,
   "metadata": {
    "collapsed": true
   },
   "outputs": [
    {
     "name": "stdout",
     "output_type": "stream",
     "text": [
      "  % Total    % Received % Xferd  Average Speed   Time    Time     Time  Current\n",
      "                                 Dload  Upload   Total   Spent    Left  Speed\n",
      "100 1005k  100 1005k    0     0  1005k      0  0:00:01 --:--:--  0:00:01 1090k\n"
     ]
    }
   ],
   "source": [
    "#Set up the libraries we need and download the data\n",
    "!curl -O -J https://losc.ligo.org/s/events/GW150914/H-H1_LOSC_4_V2-1126259446-32.gwf"
   ]
  },
  {
   "cell_type": "code",
   "execution_count": null,
   "metadata": {},
   "outputs": [],
   "source": [
    "from pycbc.frame import read_frame\n",
    "from pycbc.filter import highpass_fir, lowpass_fir\n",
    "from pycbc.psd import welch, interpolate\n",
    "from pycbc.types import TimeSeries\n",
    "\n",
    "# Read data and remove low frequency content\n",
    "fname = 'H-H1_LOSC_4_V2-1126259446-32.gwf'\n",
    "h1 = highpass_fir(read_frame(fname, 'H1:LOSC-STRAIN'), 15.0, 8)\n",
    "\n",
    "# estimate the noise spectrum and whiten\n",
    "psd = interpolate(welch(h1), 1.0 / 32)\n",
    "white_strain = (h1.to_frequencyseries() / psd ** 0.5 * psd.delta_f).to_timeseries()\n",
    "\n",
    "# remove some of the high and low frequencies\n",
    "smooth = highpass_fir(white_strain, 25, 8)\n",
    "smooth = lowpass_fir(white_strain, 250, 8)\n",
    "\n",
    "# slow the data down by a factor of 4\n",
    "smooth = TimeSeries(smooth, delta_t=smooth.delta_t*4)\n",
    "\n",
    "#strech out and shift the frequency upwards by 300 Hz to aid human hearing\n",
    "frequency_shift = 300.0\n",
    "fdata = smooth.to_frequencyseries()\n",
    "fdata.roll(int(frequency_shift / fdata.delta_f))\n",
    "smooth = fdata.to_timeseries()\n",
    "\n",
    "#Take slice around signal\n",
    "smooth = smooth[len(smooth)/2 - 1500:len(smooth)/2 + 3000]\n",
    "smooth.save_to_wav('gw150914_h1_chirp.wav')"
   ]
  },
  {
   "cell_type": "markdown",
   "metadata": {},
   "source": [
    "### Downlod your audio file ###\n",
    " 1. If using JupyterLab, your file should show up in the sidebar\n",
    " 2. Select and download gw150914_h1_chirp.wav"
   ]
  }
 ],
 "metadata": {
  "kernelspec": {
   "display_name": "Python 2",
   "language": "python",
   "name": "python2"
  },
  "language_info": {
   "codemirror_mode": {
    "name": "ipython",
    "version": 2
   },
   "file_extension": ".py",
   "mimetype": "text/x-python",
   "name": "python",
   "nbconvert_exporter": "python",
   "pygments_lexer": "ipython2",
   "version": "2.7.14"
  }
 },
 "nbformat": 4,
 "nbformat_minor": 2
}
