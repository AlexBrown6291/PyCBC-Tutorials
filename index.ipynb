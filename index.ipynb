{
 "cells": [
  {
   "cell_type": "markdown",
   "metadata": {},
   "source": [
    "# PyCBC: Python Software to Study Gravitational Waves#\n",
    "\n",
    "PyCBC is software developed by a collaboration of LIGO scientists. It is open source and freely available. We use PyCBC in the detection of gravitational waves from binary mergers such as GW150914. Below you will find links to examples that explore gravitational wave data, how we find potential signals, and learn about them. This notebook is interactive so feel free to modify yourself! Note that many of these are simplified for illustrative purposes. \n",
    "\n",
    " * Learn more about [PyCBC](https://pycbc.org/)\n",
    " * Get a the complete LIGO PyCBC environment with our [docker images](http://pycbc/pycbc/latest/html/docker.html)\n",
    " * Find more examples on our [documentation pages](http://pycbc.org/pycbc/latest/html/)\n",
    " * PyCBC is open source and available on [github](https://github.com/gwastro/pycbc).\n",
    "\n",
    "### [LOSC](https://losc.ligo.org/about/) ###\n",
    "LIGO makes data open to the public through the LIGO Open Science Center. You can download data used on these pages from there and much more!"
   ]
  },
  {
   "cell_type": "markdown",
   "metadata": {},
   "source": [
    "# Tutorials\n",
    "\n",
    "The following tutorials are meant to introduce one to the pycbc library and doing some basic analysis of gravitational-wave data. They are largely meant to be followed in sequence and build upon each other. If you want to learn to use the PyCBC library, it is strongly suggested to start here!"
   ]
  },
  {
   "cell_type": "markdown",
   "metadata": {},
   "source": [
    "#### [1. Work with accessing the catalog of gravitational-wave mergers and LIGO/Virgo data](tutorial/1_CatalogData.ipynb) ###"
   ]
  },
  {
   "cell_type": "markdown",
   "metadata": {},
   "source": [
    "#### [2. Visualize gravitational-wave data and start into signal processing](tutorial/2_VisualizationSignalProcessing.ipynb) ###"
   ]
  },
  {
   "cell_type": "markdown",
   "metadata": {},
   "source": [
    "#### [3. Generate template waveforms and matched filtering](tutorial/3_WaveformMatchedFilter.ipynb) ###"
   ]
  },
  {
   "cell_type": "markdown",
   "metadata": {},
   "source": [
    "#### [4. Signal Consistency testing and significance of GW170814 Virgo observation](tutorial/4_ChisqSignificance.ipynb) ###"
   ]
  },
  {
   "cell_type": "markdown",
   "metadata": {},
   "source": [
    "# Further Short Examples\n"
   ]
  },
  {
   "cell_type": "markdown",
   "metadata": {},
   "source": [
    "### GW170817: Investigate the first binary neutron star merger observed with gravitational waves! ##"
   ]
  },
  {
   "cell_type": "markdown",
   "metadata": {},
   "source": [
    "#### [Estimate the mass of the inspiralling neutron stars and see the signal in the data](examples/gw170817_mass_estimate.ipynb) ###"
   ]
  },
  {
   "cell_type": "markdown",
   "metadata": {},
   "source": [
    "### GW150914: Investigate the first BBH merger detected ##"
   ]
  },
  {
   "cell_type": "markdown",
   "metadata": {},
   "source": [
    "#### [See the signal in the data](examples/gw150914_look.ipynb) ###"
   ]
  },
  {
   "cell_type": "markdown",
   "metadata": {},
   "source": [
    "#### [Listen to the merger converted to audio](examples/gw150914_audio.ipynb) ###"
   ]
  },
  {
   "cell_type": "markdown",
   "metadata": {},
   "source": [
    "#### [Generate the estimated gravitational waveform and calculate the signal-to-noise](examples/gw150914_snr.ipynb) ###"
   ]
  },
  {
   "cell_type": "markdown",
   "metadata": {},
   "source": [
    "#### [Estimate the mass of the black holes in the merger and subtract from the data](examples/mass_estimate_subtract.ipynb) ###"
   ]
  },
  {
   "cell_type": "markdown",
   "metadata": {},
   "source": [
    "### GW151226 ##"
   ]
  },
  {
   "cell_type": "markdown",
   "metadata": {},
   "source": [
    "#### [Generate the estimated gravitational waveform and calculate the signal-to-noise](examples/gw151226_snr.ipynb) ###"
   ]
  },
  {
   "cell_type": "markdown",
   "metadata": {},
   "source": [
    "### LVT151012 ##"
   ]
  },
  {
   "cell_type": "markdown",
   "metadata": {},
   "source": [
    "#### [Generate the estimated gravitational waveform and calculate the signal-to-noise](examples/lvt151012_snr.ipynb) ###"
   ]
  },
  {
   "cell_type": "markdown",
   "metadata": {},
   "source": [
    "### GW170104 ##"
   ]
  },
  {
   "cell_type": "markdown",
   "metadata": {},
   "source": [
    "#### [See the time frequency track of the signal in the data](examples/gw170104_look.ipynb) ###"
   ]
  },
  {
   "cell_type": "markdown",
   "metadata": {},
   "source": [
    "### Waveforms for Gravitational-wave Mergers ##"
   ]
  },
  {
   "cell_type": "markdown",
   "metadata": {},
   "source": [
    "#### [Generate your first waveform here!](examples/waveforms_start.ipynb) ###"
   ]
  },
  {
   "cell_type": "markdown",
   "metadata": {},
   "source": [
    "#### [See the effect of changing the sky location and orientation of a merger signal](examples/waveform_skyloc_orientation.ipynb) ###"
   ]
  },
  {
   "cell_type": "markdown",
   "metadata": {},
   "source": [
    "#### [Compare how similar waveforms are to each other](examples/waveform_similarity.ipynb) ###"
   ]
  },
  {
   "cell_type": "markdown",
   "metadata": {},
   "source": [
    "### Generating Simulated Noise ##"
   ]
  },
  {
   "cell_type": "markdown",
   "metadata": {},
   "source": [
    "#### [Generate noise directly in the frequency domain](examples/generate_noise_in_frequency_domain.ipynb) ###"
   ]
  }
 ],
 "metadata": {
  "kernelspec": {
   "display_name": "Python 2",
   "language": "python",
   "name": "python2"
  },
  "language_info": {
   "codemirror_mode": {
    "name": "ipython",
    "version": 2
   },
   "file_extension": ".py",
   "mimetype": "text/x-python",
   "name": "python",
   "nbconvert_exporter": "python",
   "pygments_lexer": "ipython2",
   "version": "2.7.14"
  }
 },
 "nbformat": 4,
 "nbformat_minor": 2
}
