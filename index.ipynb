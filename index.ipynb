{
 "cells": [
  {
   "cell_type": "markdown",
   "metadata": {},
   "source": [
    "# PyCBC: Python Software to Study Gravitational Waves#\n",
    "\n",
    "PyCBC is software developed by a collaboration of LIGO scientists. It is open source and freely available. We use PyCBC in the detection of gravitational waves from binary mergers such as GW150914. Below you will find links to examples that explore gravitational wave data, how we find potential signals, and learn about them. This notebook is interactive so feel free to modify yourself!\n",
    "\n",
    " * Learn more about [PyCBC](https://ligo-cbc.github.io/)\n",
    " * Get a the complete LIGO PyCBC environment with our [docker images](http://ligo-cbc.github.io/pycbc/latest/html/docker.html)\n",
    " * Find more examples on our [documentation pages](http://ligo-cbc.github.io/pycbc/latest/html/)\n",
    " * PyCBC is open source and available on [github](https://github.com/ligo-cbc/pycbc).\n",
    "\n",
    "### [LOSC](https://losc.ligo.org/about/) ###\n",
    "LIGO makes data open to the public through the LIGO Open Science Center. You can download data used on these pages from there and much more!"
   ]
  },
  {
   "cell_type": "markdown",
   "metadata": {},
   "source": [
    "## GW150914: Investigate the first BBH merger detected ##"
   ]
  },
  {
   "cell_type": "markdown",
   "metadata": {},
   "source": [
    "### [See the signal in the data](gw150914_look.ipynb) ###"
   ]
  },
  {
   "cell_type": "markdown",
   "metadata": {},
   "source": [
    "### [List to the merger converted to audio](gw150914_audio.ipynb) ###"
   ]
  },
  {
   "cell_type": "markdown",
   "metadata": {},
   "source": [
    "### [Generate the estimated gravitational waveform and calculate the signal-to-noise](gw150914_snr.ipynb) ###"
   ]
  }
 ],
 "metadata": {
  "kernelspec": {
   "display_name": "Python 2",
   "language": "python",
   "name": "python2"
  },
  "language_info": {
   "codemirror_mode": {
    "name": "ipython",
    "version": 2
   },
   "file_extension": ".py",
   "mimetype": "text/x-python",
   "name": "python",
   "nbconvert_exporter": "python",
   "pygments_lexer": "ipython2",
   "version": "2.7.13"
  }
 },
 "nbformat": 4,
 "nbformat_minor": 2
}
